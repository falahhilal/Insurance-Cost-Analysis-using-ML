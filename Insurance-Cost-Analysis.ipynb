{
 "cells": [
  {
   "cell_type": "code",
   "execution_count": 1,
   "id": "6f6557bb-e01e-46f4-8746-9373b7ee50d6",
   "metadata": {},
   "outputs": [],
   "source": [
    "import pandas as pd\n",
    "import matplotlib.pyplot as plt\n",
    "import numpy as np\n",
    "import seaborn as sns\n",
    "from sklearn.pipeline import Pipeline\n",
    "from sklearn.preprocessing import StandardScaler, PolynomialFeatures\n",
    "from sklearn.linear_model import LinearRegression, Ridge\n",
    "from sklearn.metrics import mean_squared_error, r2_score\n",
    "from sklearn.model_selection import cross_val_score, train_test_split"
   ]
  },
  {
   "cell_type": "code",
   "execution_count": 2,
   "id": "f0cbc305-03a9-4ea6-ab4a-71ee5221dd0a",
   "metadata": {},
   "outputs": [],
   "source": [
    "path = 'https://cf-courses-data.s3.us.cloud-object-storage.appdomain.cloud/IBMDeveloperSkillsNetwork-DA0101EN-Coursera/medical_insurance_dataset.csv'"
   ]
  },
  {
   "cell_type": "code",
   "execution_count": 3,
   "id": "4c71bef6-3d2a-4467-ab41-c9e802898ae7",
   "metadata": {},
   "outputs": [
    {
     "name": "stdout",
     "output_type": "stream",
     "text": [
      "    0  1       2  3  4  5            6\n",
      "0  19  1  27.900  0  1  3  16884.92400\n",
      "1  18  2  33.770  1  0  4   1725.55230\n",
      "2  28  2  33.000  3  0  4   4449.46200\n",
      "3  33  2  22.705  0  0  1  21984.47061\n",
      "4  32  2  28.880  0  0  1   3866.85520\n",
      "5  31  1  25.740  0  ?  4   3756.62160\n",
      "6  46  1  33.440  1  0  4   8240.58960\n",
      "7  37  1  27.740  3  0  1   7281.50560\n",
      "8  37  2  29.830  2  0  2   6406.41070\n",
      "9  60  1  25.840  0  0  1  28923.13692\n"
     ]
    }
   ],
   "source": [
    "df = pd.read_csv(path, header=None)\n",
    "print(df.head(10))"
   ]
  },
  {
   "cell_type": "code",
   "execution_count": 4,
   "id": "a5b88166-e5c6-472c-b958-0042efa3f56a",
   "metadata": {},
   "outputs": [],
   "source": [
    "headers = [\"age\", \"gender\", \"bmi\", \"no_of_children\", \"smoker\", \"region\", \"charges\"]\n",
    "df.columns = headers"
   ]
  },
  {
   "cell_type": "code",
   "execution_count": 12,
   "id": "6014c7ae-5522-4032-8345-7e5a38b5810b",
   "metadata": {},
   "outputs": [
    {
     "name": "stdout",
     "output_type": "stream",
     "text": [
      "  age  gender     bmi  no_of_children smoker  region      charges\n",
      "0  19       1  27.900               0      1       3  16884.92400\n",
      "1  18       2  33.770               1      0       4   1725.55230\n",
      "2  28       2  33.000               3      0       4   4449.46200\n",
      "3  33       2  22.705               0      0       1  21984.47061\n",
      "4  32       2  28.880               0      0       1   3866.85520\n",
      "5  31       1  25.740               0    NaN       4   3756.62160\n",
      "6  46       1  33.440               1      0       4   8240.58960\n",
      "7  37       1  27.740               3      0       1   7281.50560\n",
      "8  37       2  29.830               2      0       2   6406.41070\n",
      "9  60       1  25.840               0      0       1  28923.13692\n"
     ]
    }
   ],
   "source": [
    "df.replace('?', np.nan, inplace = True)"
   ]
  },
  {
   "cell_type": "code",
   "execution_count": 11,
   "id": "b0dc586f-830a-4f2c-a436-139509bd5802",
   "metadata": {},
   "outputs": [
    {
     "name": "stdout",
     "output_type": "stream",
     "text": [
      "<class 'pandas.core.frame.DataFrame'>\n",
      "RangeIndex: 2772 entries, 0 to 2771\n",
      "Data columns (total 7 columns):\n",
      " #   Column          Non-Null Count  Dtype  \n",
      "---  ------          --------------  -----  \n",
      " 0   age             2768 non-null   object \n",
      " 1   gender          2772 non-null   int64  \n",
      " 2   bmi             2772 non-null   float64\n",
      " 3   no_of_children  2772 non-null   int64  \n",
      " 4   smoker          2765 non-null   object \n",
      " 5   region          2772 non-null   int64  \n",
      " 6   charges         2772 non-null   float64\n",
      "dtypes: float64(2), int64(3), object(2)\n",
      "memory usage: 151.7+ KB\n",
      "None\n"
     ]
    }
   ],
   "source": [
    "print(df.info())"
   ]
  },
  {
   "cell_type": "code",
   "execution_count": 13,
   "id": "8a8953b7-7601-452a-90c2-092d4fc9a3de",
   "metadata": {},
   "outputs": [
    {
     "name": "stderr",
     "output_type": "stream",
     "text": [
      "C:\\Users\\Dell\\AppData\\Local\\Temp\\ipykernel_10296\\1624124308.py:3: FutureWarning: A value is trying to be set on a copy of a DataFrame or Series through chained assignment using an inplace method.\n",
      "The behavior will change in pandas 3.0. This inplace method will never work because the intermediate object on which we are setting values always behaves as a copy.\n",
      "\n",
      "For example, when doing 'df[col].method(value, inplace=True)', try using 'df.method({col: value}, inplace=True)' or df[col] = df[col].method(value) instead, to perform the operation inplace on the original object.\n",
      "\n",
      "\n",
      "  df[\"age\"].replace(np.nan, mean_age, inplace=True)\n"
     ]
    }
   ],
   "source": [
    "#handling missing age\n",
    "mean_age = df['age'].astype('float').mean()\n",
    "df[\"age\"].replace(np.nan, mean_age, inplace=True)"
   ]
  },
  {
   "cell_type": "code",
   "execution_count": 14,
   "id": "32d165eb-e39e-44a1-86e5-8eed2c39a9c7",
   "metadata": {},
   "outputs": [
    {
     "name": "stderr",
     "output_type": "stream",
     "text": [
      "C:\\Users\\Dell\\AppData\\Local\\Temp\\ipykernel_10296\\2494493255.py:3: FutureWarning: A value is trying to be set on a copy of a DataFrame or Series through chained assignment using an inplace method.\n",
      "The behavior will change in pandas 3.0. This inplace method will never work because the intermediate object on which we are setting values always behaves as a copy.\n",
      "\n",
      "For example, when doing 'df[col].method(value, inplace=True)', try using 'df.method({col: value}, inplace=True)' or df[col] = df[col].method(value) instead, to perform the operation inplace on the original object.\n",
      "\n",
      "\n",
      "  df[\"smoker\"].replace(np.nan, is_smoker, inplace=True)\n"
     ]
    }
   ],
   "source": [
    "#handling missing smoker coloumn values\n",
    "is_smoker = df['smoker'].value_counts().idxmax()\n",
    "df[\"smoker\"].replace(np.nan, is_smoker, inplace=True)"
   ]
  },
  {
   "cell_type": "code",
   "execution_count": 16,
   "id": "a8574638-f9b8-490f-a7f8-81765ca3256f",
   "metadata": {},
   "outputs": [
    {
     "name": "stdout",
     "output_type": "stream",
     "text": [
      "<class 'pandas.core.frame.DataFrame'>\n",
      "RangeIndex: 2772 entries, 0 to 2771\n",
      "Data columns (total 7 columns):\n",
      " #   Column          Non-Null Count  Dtype  \n",
      "---  ------          --------------  -----  \n",
      " 0   age             2772 non-null   int32  \n",
      " 1   gender          2772 non-null   int64  \n",
      " 2   bmi             2772 non-null   float64\n",
      " 3   no_of_children  2772 non-null   int64  \n",
      " 4   smoker          2772 non-null   int32  \n",
      " 5   region          2772 non-null   int64  \n",
      " 6   charges         2772 non-null   float64\n",
      "dtypes: float64(2), int32(2), int64(3)\n",
      "memory usage: 130.1 KB\n",
      "None\n"
     ]
    }
   ],
   "source": [
    "df[[\"age\",\"smoker\"]] = df[[\"age\",\"smoker\"]].astype(\"int\")\n",
    "print(df.info())"
   ]
  },
  {
   "cell_type": "code",
   "execution_count": 17,
   "id": "7444109c-d8dc-4933-a7d9-e179823b39e5",
   "metadata": {},
   "outputs": [
    {
     "name": "stdout",
     "output_type": "stream",
     "text": [
      "   age  gender     bmi  no_of_children  smoker  region   charges\n",
      "0   19       1  27.900               0       1       3  16884.92\n",
      "1   18       2  33.770               1       0       4   1725.55\n",
      "2   28       2  33.000               3       0       4   4449.46\n",
      "3   33       2  22.705               0       0       1  21984.47\n",
      "4   32       2  28.880               0       0       1   3866.86\n"
     ]
    }
   ],
   "source": [
    "#converting charges to 2 decimal place\n",
    "df[[\"charges\"]] = np.round(df[[\"charges\"]],2)\n",
    "print(df.head())"
   ]
  },
  {
   "cell_type": "code",
   "execution_count": 26,
   "id": "0a256ffd-f064-4c09-9b57-68151e1e3d14",
   "metadata": {},
   "outputs": [
    {
     "data": {
      "text/plain": [
       "(0.0, 66902.85800000001)"
      ]
     },
     "execution_count": 26,
     "metadata": {},
     "output_type": "execute_result"
    },
    {
     "data": {
      "image/png": "[encoded data removed]",
      "text/plain": [
       "<Figure size 640x480 with 1 Axes>"
      ]
     },
     "metadata": {},
     "output_type": "display_data"
    }
   ],
   "source": [
    "#EDA - regression plot for charges w.r.t bmi\n",
    "sns.regplot(x=\"bmi\", y=\"charges\", data=df, line_kws={\"color\": \"red\"}, scatter_kws={\"color\":\"blue\", \"s\":5})\n",
    "plt.ylim(0,)"
   ]
  },
  {
   "cell_type": "code",
   "execution_count": 30,
   "id": "a271ffb0-3aed-45c4-955f-71c0bdfb9ba6",
   "metadata": {},
   "outputs": [
    {
     "data": {
      "text/plain": [
       "<Axes: xlabel='smoker', ylabel='charges'>"
      ]
     },
     "execution_count": 30,
     "metadata": {},
     "output_type": "execute_result"
    },
    {
     "data": {
      "image/png": "[encoded data removed]",
      "text/plain": [
       "<Figure size 640x480 with 1 Axes>"
      ]
     },
     "metadata": {},
     "output_type": "display_data"
    }
   ],
   "source": [
    "#boxplot of charges wrt smoker\n",
    "sns.boxplot(x=\"smoker\", y=\"charges\", data=df,)"
   ]
  },
  {
   "cell_type": "code",
   "execution_count": 31,
   "id": "198c39b7-40e8-45c0-9957-9300b180846f",
   "metadata": {},
   "outputs": [
    {
     "name": "stdout",
     "output_type": "stream",
     "text": [
      "                     age    gender       bmi  no_of_children    smoker  \\\n",
      "age             1.000000 -0.026046  0.113048        0.037574 -0.023286   \n",
      "gender         -0.026046  1.000000  0.042924        0.016020  0.082326   \n",
      "bmi             0.113048  0.042924  1.000000       -0.001492  0.011489   \n",
      "no_of_children  0.037574  0.016020 -0.001492        1.000000  0.006362   \n",
      "smoker         -0.023286  0.082326  0.011489        0.006362  1.000000   \n",
      "region         -0.007167  0.022213  0.271119       -0.025717  0.054077   \n",
      "charges         0.298624  0.062837  0.199846        0.066442  0.788783   \n",
      "\n",
      "                  region   charges  \n",
      "age            -0.007167  0.298624  \n",
      "gender          0.022213  0.062837  \n",
      "bmi             0.271119  0.199846  \n",
      "no_of_children -0.025717  0.066442  \n",
      "smoker          0.054077  0.788783  \n",
      "region          1.000000  0.054058  \n",
      "charges         0.054058  1.000000  \n"
     ]
    }
   ],
   "source": [
    "#correlation\n",
    "print(df.corr())"
   ]
  },
  {
   "cell_type": "code",
   "execution_count": 35,
   "id": "2c722757-295c-435c-ac61-4f15bbac9ce3",
   "metadata": {},
   "outputs": [
    {
     "name": "stdout",
     "output_type": "stream",
     "text": [
      "R² : 0.6221791733924185\n",
      "Predicted charges (non-smoker): [8417.87439312]\n",
      "Predicted charges (smoker): [32223.1398227]\n"
     ]
    },
    {
     "name": "stderr",
     "output_type": "stream",
     "text": [
      "D:\\Anaconda\\Lib\\site-packages\\sklearn\\base.py:493: UserWarning: X does not have valid feature names, but LinearRegression was fitted with feature names\n",
      "  warnings.warn(\n",
      "D:\\Anaconda\\Lib\\site-packages\\sklearn\\base.py:493: UserWarning: X does not have valid feature names, but LinearRegression was fitted with feature names\n",
      "  warnings.warn(\n"
     ]
    }
   ],
   "source": [
    "#linear regression model to predict charges from smoker \n",
    "X = df[['smoker']]\n",
    "Y = df['charges']\n",
    "lm = LinearRegression()\n",
    "lm.fit(X,Y)\n",
    "print(\"R\\u00B2 :\", lm.score(X, Y))\n",
    "print(\"Predicted charges (non-smoker):\", lm.predict([[0]]))\n",
    "print(\"Predicted charges (smoker):\", lm.predict([[1]]))"
   ]
  },
  {
   "cell_type": "raw",
   "id": "c78ea078-86d6-4ce1-b464-a3f0753e9000",
   "metadata": {},
   "source": [
    "#training a lrm to predict charges from everything else\n",
    "Z = df[[\"age\", \"gender\", \"bmi\", \"no_of_children\", \"smoker\", \"region\"]]\n",
    "lm.fit(Z,Y)\n",
    "print(\"R\\u00B2 :\", lm.score(Z, Y))"
   ]
  },
  {
   "cell_type": "code",
   "execution_count": 37,
   "id": "7b8157a3-e7dc-45f8-b1b8-e2f587431250",
   "metadata": {},
   "outputs": [
    {
     "name": "stdout",
     "output_type": "stream",
     "text": [
      "0.8452456286532801\n"
     ]
    }
   ],
   "source": [
    "#training pipeline\n",
    "Input=[('scale',StandardScaler()), ('polynomial', PolynomialFeatures(include_bias=False)), ('model', LinearRegression())]\n",
    "pipe=Pipeline(Input)\n",
    "Z = Z.astype(float)\n",
    "pipe.fit(Z,Y)\n",
    "ypipe=pipe.predict(Z)\n",
    "print(r2_score(Y,ypipe))"
   ]
  },
  {
   "cell_type": "code",
   "execution_count": 38,
   "id": "266ba239-3362-4780-ae3f-1d18ec89c265",
   "metadata": {},
   "outputs": [],
   "source": [
    "#train test split\n",
    "x_train, x_test, y_train, y_test = train_test_split(Z, Y, test_size=0.2, random_state=1)"
   ]
  },
  {
   "cell_type": "code",
   "execution_count": 39,
   "id": "6ee2b3a4-b1a0-49b3-be08-fe25cafbfe1a",
   "metadata": {},
   "outputs": [
    {
     "name": "stdout",
     "output_type": "stream",
     "text": [
      "0.6760807731582404\n"
     ]
    }
   ],
   "source": [
    "#ridge regressor, alpha=0.1, fit on training data, score of test data\n",
    "RidgeModel=Ridge(alpha=0.1)\n",
    "RidgeModel.fit(x_train, y_train)\n",
    "yhat = RidgeModel.predict(x_test)\n",
    "print(r2_score(y_test,yhat))"
   ]
  },
  {
   "cell_type": "code",
   "execution_count": 40,
   "id": "55cae4cd-0f72-4932-894a-cd51567e480f",
   "metadata": {},
   "outputs": [
    {
     "name": "stdout",
     "output_type": "stream",
     "text": [
      "0.7835631107608153\n"
     ]
    }
   ],
   "source": [
    "#polynomial tranformation\n",
    "pr = PolynomialFeatures(degree=2)\n",
    "x_train_pr = pr.fit_transform(x_train)\n",
    "x_test_pr = pr.fit_transform(x_test)\n",
    "RidgeModel.fit(x_train_pr, y_train)\n",
    "y_hat = RidgeModel.predict(x_test_pr)\n",
    "print(r2_score(y_test,y_hat))"
   ]
  },
  {
   "cell_type": "code",
   "execution_count": null,
   "id": "2de96242-8179-49b3-b9ae-f664bd2d74dd",
   "metadata": {},
   "outputs": [],
   "source": []
  }
 ],
 "metadata": {
  "kernelspec": {
   "display_name": "Python 3 (ipykernel)",
   "language": "python",
   "name": "python3"
  },
  "language_info": {
   "codemirror_mode": {
    "name": "ipython",
    "version": 3
   },
   "file_extension": ".py",
   "mimetype": "text/x-python",
   "name": "python",
   "nbconvert_exporter": "python",
   "pygments_lexer": "ipython3",
   "version": "3.12.7"
  }
 },
 "nbformat": 4,
 "nbformat_minor": 5
}
